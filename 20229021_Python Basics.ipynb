{
 "cells": [
  {
   "cell_type": "code",
   "execution_count": 15,
   "id": "9ebb0c49",
   "metadata": {},
   "outputs": [
    {
     "name": "stdout",
     "output_type": "stream",
     "text": [
      "Enter a string: edfs\n",
      "{i}: {count}\n",
      "{i}: {count}\n",
      "{i}: {count}\n",
      "{i}: {count}\n"
     ]
    }
   ],
   "source": [
    "#Q1\n",
    "input_string = input(\"Enter a string: \")\n",
    "char_count = {}\n",
    "for i in input_string:\n",
    "    if i in char_count:\n",
    "        char_count[i] += 1\n",
    "    else:\n",
    "        char_count[i] = 1\n",
    "for i, count in char_count.items():\n",
    "    print(f\"{i}: {count}\")\n"
   ]
  },
  {
   "cell_type": "code",
   "execution_count": 16,
   "id": "4428eb24",
   "metadata": {},
   "outputs": [
    {
     "name": "stdout",
     "output_type": "stream",
     "text": [
      "Enter a key to check: qesddas \n",
      "The key 'qesddas ' doesn't exist\n"
     ]
    }
   ],
   "source": [
    "#Q2\n",
    "my_dict = {'Dhaka': 1, 'Barishal': 2, 'Rangpur': 3,\n",
    "'Khulna': 4, 'Sylhet':5 }\n",
    "check = input(\"Enter a key to check: \")\n",
    "if check in my_dict:\n",
    "    print(f\"The key '{check}' exists\")\n",
    "else:\n",
    "    print(f\"The key '{check}' doesn't exist\")\n"
   ]
  },
  {
   "cell_type": "code",
   "execution_count": 26,
   "id": "9e18bc27",
   "metadata": {},
   "outputs": [
    {
     "name": "stdout",
     "output_type": "stream",
     "text": [
      "Enter comma-separated numbers: 1,12,3,4\n",
      "List:  ['1', '12', '3', '4']\n",
      "Tuple:  ('1', '12', '3', '4')\n"
     ]
    }
   ],
   "source": [
    "#Q3\n",
    "user_inp = input(\"Enter comma-separated numbers: \")\n",
    "num_list =list( user_inp.split(\",\"))\n",
    "num_tuple = tuple(user_inp.split(\",\"))\n",
    "print(\"List: \", num_list)\n",
    "print(\"Tuple: \", num_tuple)\n"
   ]
  },
  {
   "cell_type": "code",
   "execution_count": 14,
   "id": "0ad333c5",
   "metadata": {},
   "outputs": [
    {
     "name": "stdout",
     "output_type": "stream",
     "text": [
      "Enter the first date (YYYY,MM,DD): 2023,08,09\n",
      "Enter the second date (YYYY,MM,DD): 2032,08,09\n",
      "The number of days between 2023,08,09 and 2032,08,09 is: 3288\n"
     ]
    }
   ],
   "source": [
    "#Q4\n",
    "from datetime import datetime\n",
    "\n",
    "# input the first date in YYYY-MM-DD format\n",
    "date1_str = input(\"Enter the first date (YYYY-MM-DD): \")\n",
    "\n",
    "# input the second date in YYYY-MM-DD format\n",
    "date2_str = input(\"Enter the second date (YYYY-MM-DD): \")\n",
    "\n",
    "# convert the input strings into datetime objects\n",
    "date1 = datetime.strptime(date1_str, \"%Y-%m-%d\")\n",
    "date2 = datetime.strptime(date2_str, \"%Y-%m-%d\")\n",
    "\n",
    "# calculate the difference between the two dates and extract the number of days\n",
    "delta = date2 - date1\n",
    "num_days = delta.days\n",
    "\n",
    "# output the result\n",
    "print(f\"The number of days between {date1_str} and {date2_str} is: {num_days}\")\n",
    "\n"
   ]
  },
  {
   "cell_type": "code",
   "execution_count": 4,
   "id": "2aa7d31a",
   "metadata": {},
   "outputs": [
    {
     "name": "stdout",
     "output_type": "stream",
     "text": [
      "Enter the value of x: 3\n",
      "Enter the value of y: 4\n",
      "The result of (3 + 4)^2 is: 49\n"
     ]
    }
   ],
   "source": [
    "#Q5\n",
    "x = int(input(\"Enter the value of x: \"))\n",
    "y = int(input(\"Enter the value of y: \"))\n",
    "result = (x + y) * (x + y)\n",
    "print(f\"The result of ({x} + {y})^2 is: {result}\")\n"
   ]
  },
  {
   "cell_type": "code",
   "execution_count": 7,
   "id": "601beeac",
   "metadata": {},
   "outputs": [
    {
     "name": "stdout",
     "output_type": "stream",
     "text": [
      "Enter the principal amount: 7000\n",
      "Enter the interest rate (%): 4\n",
      "Enter the number of years: 5\n",
      "The future value of 7000.0 with an interest rate of 4.0% for 5 years is: 8516.57\n"
     ]
    }
   ],
   "source": [
    "#Q6\n",
    "amt = float(input(\"Enter the principal amount: \"))\n",
    "int_rate = float(input(\"Enter the interest rate (%): \")) / 100\n",
    "years = int(input(\"Enter the number of years: \"))\n",
    "future_value = amt * (1 + int_rate)**years\n",
    "print(f\"The future value of {amt} with an interest rate of {int_rate*100}% for {years} years is: {round(future_value, 2)}\")\n"
   ]
  },
  {
   "cell_type": "code",
   "execution_count": 10,
   "id": "b917d94a",
   "metadata": {},
   "outputs": [
    {
     "name": "stdout",
     "output_type": "stream",
     "text": [
      "The list of unique numbers: [0, 1, 2, 3, 4, 5, 6, 7, 8, 9]\n",
      "Length of the unique list: 10\n"
     ]
    }
   ],
   "source": [
    "#Q7\n",
    "array = [0,0,1,1,2,2,3,3,4,4,4,9,8,6,5,5,7,7,0,4,5,3,6,7,3,2,9]\n",
    "unique_array = list(set(array))\n",
    "print(\"The list of unique numbers:\", unique_array)\n",
    "print(\"Length of the unique list:\", len(unique_array))\n"
   ]
  },
  {
   "cell_type": "code",
   "execution_count": 17,
   "id": "dcdc6e17",
   "metadata": {},
   "outputs": [
    {
     "name": "stdout",
     "output_type": "stream",
     "text": [
      "Dictionary sorted by keys in ascending order: {'Barishal': 2, 'Dhaka': 1, 'Khulna': 4, 'Rangpur': 3, 'Sylhet': 5}\n",
      "Dictionary sorted by keys in descending order: {'Sylhet': 5, 'Rangpur': 3, 'Khulna': 4, 'Dhaka': 1, 'Barishal': 2}\n"
     ]
    }
   ],
   "source": [
    "#Q8\n",
    "# take input for the dictionary\n",
    "d = {'Dhaka': 1, 'Barishal': 2, 'Rangpur': 3,\n",
    "'Khulna': 4, 'Sylhet':5 }\n",
    "\n",
    "# sort the dictionary by keys in ascending order and print it\n",
    "sorted_dict = dict(sorted(d.items()))\n",
    "print(\"Dictionary sorted by keys in ascending order:\", sorted_dict)\n",
    "\n",
    "# sort the dictionary by keys in descending order and print it\n",
    "sorted_dict = dict(sorted(d.items(), reverse=True))\n",
    "print(\"Dictionary sorted by keys in descending order:\", sorted_dict)\n",
    "\n"
   ]
  },
  {
   "cell_type": "code",
   "execution_count": 15,
   "id": "ae39cb2a",
   "metadata": {},
   "outputs": [
    {
     "name": "stdout",
     "output_type": "stream",
     "text": [
      "Updated dictionary: {0: 10, 1: 20, 2: 30}\n"
     ]
    }
   ],
   "source": [
    "#Q9\n",
    "d = {0: 10, 1: 20}\n",
    "d[2] = 30\n",
    "print(\"Updated dictionary:\", d)\n"
   ]
  },
  {
   "cell_type": "code",
   "execution_count": 16,
   "id": "47791c00",
   "metadata": {},
   "outputs": [
    {
     "name": "stdout",
     "output_type": "stream",
     "text": [
      "     name  score  attempts qualify\n",
      "a    Arif   12.5         1     yes\n",
      "b    Asir    9.0         3      no\n",
      "c    Arik   16.5         2     yes\n",
      "d    Anis    NaN         3      no\n",
      "e    Anil    9.0         2      no\n",
      "f  Ashish   20.0         3     yes\n",
      "g   Anahi   14.5         1     yes\n",
      "h    Alia    NaN         1      no\n",
      "i   Alvin    8.0         2      no\n",
      "j    Asim   19.0         1     yes\n"
     ]
    }
   ],
   "source": [
    "#Q10\n",
    "import pandas as pd\n",
    "import numpy as np\n",
    "\n",
    "# Define the dictionary data and the index labels\n",
    "exam_data = {'name': ['Arif', 'Asir', 'Arik', 'Anis', 'Anil', 'Ashish', 'Anahi', 'Alia', 'Alvin', 'Asim'],\n",
    "             'score': [12.5, 9, 16.5, np.nan, 9, 20, 14.5, np.nan, 8, 19],\n",
    "             'attempts': [1, 3, 2, 3, 2, 3, 1, 1, 2, 1],\n",
    "             'qualify': ['yes', 'no', 'yes', 'no', 'no', 'yes', 'yes', 'no', 'no', 'yes']}\n",
    "labels = ['a', 'b', 'c', 'd', 'e', 'f', 'g', 'h', 'i', 'j']\n",
    "\n",
    "# Create a DataFrame with the dictionary data and index labels\n",
    "df = pd.DataFrame(exam_data, index=labels)\n",
    "\n",
    "# Display the DataFrame\n",
    "print(df)\n",
    "\n"
   ]
  },
  {
   "cell_type": "code",
   "execution_count": null,
   "id": "16427e01",
   "metadata": {},
   "outputs": [],
   "source": []
  }
 ],
 "metadata": {
  "kernelspec": {
   "display_name": "Python 3 (ipykernel)",
   "language": "python",
   "name": "python3"
  },
  "language_info": {
   "codemirror_mode": {
    "name": "ipython",
    "version": 3
   },
   "file_extension": ".py",
   "mimetype": "text/x-python",
   "name": "python",
   "nbconvert_exporter": "python",
   "pygments_lexer": "ipython3",
   "version": "3.9.13"
  }
 },
 "nbformat": 4,
 "nbformat_minor": 5
}
